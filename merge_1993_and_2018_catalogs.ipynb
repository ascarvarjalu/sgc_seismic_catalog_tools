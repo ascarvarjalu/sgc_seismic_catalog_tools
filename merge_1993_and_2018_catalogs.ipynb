{
 "cells": [
  {
   "cell_type": "code",
   "execution_count": null,
   "id": "4f71dfcf",
   "metadata": {},
   "outputs": [],
   "source": [
    "#Homogenizar catálogos y unirlos\n",
    "import pandas as pd\n",
    "import geopandas"
   ]
  },
  {
   "cell_type": "code",
   "execution_count": null,
   "id": "09dd2f15",
   "metadata": {},
   "outputs": [],
   "source": [
    "#1. Set the path of both catalogs /// Path de catálogos\n",
    "catalogo_1993_2018 = \"C:/Users/sophi/Documents/Trabajos/SGC/test_sgc/cat_1993.xlsx\"\n",
    "catalogo_2018_hoy = \"C:/Users/sophi/Documents/Trabajos/SGC/test_sgc/cat_2018.xlsx\"\n",
    "\n",
    "#Read catalogs\n",
    "catinicial_1993 = pd.read_excel(catalogo_1993_2018)\n",
    "catinicial_2018 = pd.read_excel(catalogo_2018_hoy, skiprows=13)"
   ]
  },
  {
   "cell_type": "code",
   "execution_count": null,
   "id": "fba51a63",
   "metadata": {},
   "outputs": [],
   "source": [
    "#Definir estructura del catálogo final // Define final catalog structure\n",
    "out_columns = [\"fecha\", \"dia\", \"mes\", \"ano\", \"lat\", \"long\", \"prof\", \"mag_mi\", \"mag_mw\", \"mag_u\",\n",
    "               \"tipo_mag\", \"fases\", \"rms\", \"gap\", \"pais\", \"dep\", \"mun\", \"er_lat\", \"er_long\", \"er_prof\", \"estado\", \"cat\"]\n",
    "\n",
    "#Crear DataFrame para mejorar estructura\n",
    "cat_final_1993 = pd.DataFrame(columns = out_columns)\n",
    "cat_final_2018 = pd.DataFrame(columns = out_columns)"
   ]
  },
  {
   "cell_type": "code",
   "execution_count": null,
   "id": "9db714e8",
   "metadata": {},
   "outputs": [],
   "source": [
    "#Renombra columnas de cada uno respecto a catálogo final // Rename columns to final structure names\n",
    "dict_rename_columns_cat_2018 = {'FECHA - HORA UTC': \"fecha\", 'LATITUD (°)': \"lat\", 'LONGITUD (°)': \"long\",\n",
    "       'PROF. (Km)': \"prof\", 'MAGNITUD': \"mag_u\", \"TIPO MAGNITUD\": \"tipo_mag\", 'FASES': \"fases\", 'RMS (Seg)': \"rms\", 'GAP (°)': \"gap\",\n",
    "       'ERROR LATITUD (Km)': \"er_lat\", 'ERROR LONGITUD (Km)': \"er_long\", 'ERROR PROFUNDIDAD (Km)':\"er_prof\",\n",
    "       'REGION': 'region', 'ESTADO': \"estado\"}\n",
    "\n",
    "catinicial_2018 = catinicial_2018.rename(columns=dict_rename_columns_cat_2018)\n",
    "\n",
    "#Rename columns as they are called in the out shp.\n",
    "dict_rename_columns_cat_1993 = {'FECHA': \"fecha\", 'HORA_UTC': \"hora_utc\", 'LATITUD (grados)': \"lat\", 'LONGITUD (grados)': \"long\",\n",
    "       'PROFUNDIDAD (Km)': \"prof\", 'MAGNITUD Ml': \"mag_mi\", 'MAGNITUD Mw': \"mag_mw\", 'DEPARTAMENTO': \"dep\",\n",
    "       'MUNICIPIO': \"mun\", '# FASES': \"fases\", 'RMS (Seg)': \"rms\", 'GAP (grados)': \"gap\",\n",
    "       'ERROR LATITUD (Km)': \"er_lat\", 'ERROR LONGITUD (Km)': \"er_long\", 'ERROR PROFUNDIDAD (Km)':\"er_prof\",\n",
    "       'ESTADO': \"estado\"}\n",
    "\n",
    "catinicial_1993 = catinicial_1993.rename(columns=dict_rename_columns_cat_1993)"
   ]
  },
  {
   "cell_type": "code",
   "execution_count": null,
   "id": "3e701b2f",
   "metadata": {},
   "outputs": [],
   "source": [
    "cat_final_1993 = cat_final_1993.append(catinicial_1993)\n",
    "cat_final_2018 = cat_final_2018.append(catinicial_2018)"
   ]
  },
  {
   "cell_type": "code",
   "execution_count": null,
   "id": "1b6f5c72",
   "metadata": {},
   "outputs": [],
   "source": [
    "def insertar_diamesano(cat):\n",
    "    cat.fecha = pd.to_datetime(cat['fecha'], format='%Y-%m-%d %H:%M:%S', errors='coerce')\n",
    "    cat.dia = cat[\"fecha\"].dt.day\n",
    "    cat.mes = cat[\"fecha\"].dt.month\n",
    "    cat.ano = cat[\"fecha\"].dt.year\n",
    "    \n",
    "insertar_diamesano(cat_final_1993); insertar_diamesano(cat_final_2018)\n",
    "cat_final_1993[\"cat\"] = \"1\"; cat_final_2018[\"cat\"] = \"2\""
   ]
  },
  {
   "cell_type": "code",
   "execution_count": null,
   "id": "13d795eb",
   "metadata": {},
   "outputs": [],
   "source": [
    "#Asignar al catálogo de 1993 la magnitud a usar \"mag_u\" y su tipo\n",
    "cat_final_1993.mag_u = cat_final_1993.mag_mi\n",
    "cat_final_1993.tipo_mag = \"Mi\"\n",
    "\n",
    "cat_final_1993[\"mag_u\"] = cat_final_1993[\"mag_mw\"].where(cat_final_1993['mag_mw'].notna(), cat_final_1993[\"mag_u\"])\n",
    "cat_final_1993[\"tipo_mag\"] = cat_final_1993[\"tipo_mag\"].mask(cat_final_1993['mag_mw'].notna(), \"Mw\")\n",
    "cat_final_1993.loc[cat_final_1993['mag_mw'].notna() == True]\n",
    "list(cat_final_1993.tipo_mag)\n",
    "\n",
    "cat_final_1993[\"region\"] = cat_final_1993[\"mun\"].str.capitalize() + \", \" + cat_final_1993[\"dep\"].str.capitalize()\n",
    "\n",
    "#Dividir en columnas municipio, departamento y país en el catálogo 2018\n",
    "cat_final_2018[[\"mun\", \"pais\"]] = cat_final_2018[\"region\"].str.split(\", \", expand = True)\n",
    "cat_final_2018[[\"mun\", \"dep\"]] = cat_final_2018[\"mun\"].str.split(\" - \", expand = True)\n",
    "cat_final_2018.pais = cat_final_2018.pais.str.strip(); cat_final_2018.mun = cat_final_2018.mun.str.strip(); cat_final_2018.dep = cat_final_2018.dep.str.strip()\n"
   ]
  },
  {
   "cell_type": "code",
   "execution_count": null,
   "id": "819ce5ad",
   "metadata": {
    "scrolled": true
   },
   "outputs": [],
   "source": [
    "cat_unido = pd.concat([cat_final_1993, cat_final_2018], axis = 0)\n",
    "cat_unido.columns"
   ]
  },
  {
   "cell_type": "code",
   "execution_count": null,
   "id": "80057e78",
   "metadata": {},
   "outputs": [],
   "source": [
    "#Seleccionar columnas para exportar a shape\n",
    "cat_to_shp = cat_unido[['fecha', 'lat', 'long', 'prof', 'region', 'mag_u', 'tipo_mag',\n",
    "        'estado', 'cat']]\n",
    "cat_to_shp"
   ]
  },
  {
   "cell_type": "code",
   "execution_count": null,
   "id": "9f93b5be",
   "metadata": {},
   "outputs": [],
   "source": [
    "geocat = geopandas.GeoDataFrame(\n",
    "    cat_to_shp, geometry=geopandas.points_from_xy(cat_to_shp.long, cat_to_shp.lat), crs=\"EPSG:4326\")\n",
    "\n",
    "geocat_proj = geocat.to_crs(9377)"
   ]
  },
  {
   "cell_type": "code",
   "execution_count": null,
   "id": "6c9bcc6c",
   "metadata": {},
   "outputs": [],
   "source": [
    "#asignar nombre\n",
    "fecha_min = cat_to_shp['fecha'].dt.date.min().strftime('%d%m%Y')\n",
    "fecha_max = cat_to_shp['fecha'].dt.date.max().strftime('%d%m%Y')\n",
    "file_name = \"cat_proj_\" + fecha_min + \"_\" + fecha_max \n",
    "geocat_proj.to_file('D:/' + file_name, driver='ESRI Shapefile', index = True)\n",
    "cat_unido.to_excel('D:/' + file_name + \".xlsx\")"
   ]
  }
 ],
 "metadata": {
  "kernelspec": {
   "display_name": "Python 3 (ipykernel)",
   "language": "python",
   "name": "python3"
  },
  "language_info": {
   "codemirror_mode": {
    "name": "ipython",
    "version": 3
   },
   "file_extension": ".py",
   "mimetype": "text/x-python",
   "name": "python",
   "nbconvert_exporter": "python",
   "pygments_lexer": "ipython3",
   "version": "3.12.4"
  }
 },
 "nbformat": 4,
 "nbformat_minor": 5
}
